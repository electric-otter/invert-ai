{
 "cells": [
  {
   "cell_type": "code",
   "execution_count": null,
   "metadata": {},
   "outputs": [],
   "source": [
    "!pip install transformers torch requests beautifulsoup4 duckduckgo_search"
   ]
  },
  {
   "cell_type": "code",
   "execution_count": null,
   "metadata": {},
   "outputs": [],
   "source": [
    "import torch\n",
    "from transformers import BertTokenizer, BertForQuestionAnswering\n",
    "import requests\n",
    "from bs4 import BeautifulSoup\n",
    "from duckduckgo_search import ddg"
   ]
  },
  {
   "cell_type": "code",
   "execution_count": null,
   "metadata": {},
   "outputs": [],
   "source": [
    "# Initialize BERT model and tokenizer\n",
    "tokenizer = BertTokenizer.from_pretrained('bert-large-uncased-whole-word-masking-finetuned-squad')\n",
    "model = BertForQuestionAnswering.from_pretrained('bert-large-uncased-whole-word-masking-finetuned-squad')"
   ]
  },
  {
   "cell_type": "code",
   "execution_count": null,
   "metadata": {},
   "outputs": [],
   "source": [
    "def get_definition(word):\n",
    "    \"\"\"Retrieves definition from Dictionary.com.\"\"\"\n",
    "    url = f\"https://www.dictionary.com/browse/{word}\"\n",
    "    try:\n",
    "        response = requests.get(url)\n",
    "        response.raise_for_status()\n",
    "        soup = BeautifulSoup(response.content, 'html.parser')\n",
    "        definition_element = soup.find(\"span\", class_=\"one-click-content\")\n",
    "        if definition_element:\n",
    "            return definition_element.get_text()\n",
    "        else:\n",
    "            return \"Definition not found.\"\n",
    "    except requests.exceptions.RequestException as e:\n",
    "        return f\"Error fetching definition: {e}\"\n",
    "    except Exception as e:\n",
    "        return f\"An unexpected error occurred: {e}\""
   ]
  },
  {
   "cell_type": "code",
   "execution_count": null,
   "metadata": {},
   "outputs": [],
   "source": [
    "def get_context_from_ddg(question):\n",
    "    \"\"\"Retrieves context from DuckDuckGo search results.\"\"\"\n",
    "    try:\n",
    "        results = ddg(question, max_results=3)  # Get top 3 results\n",
    "        if results:\n",
    "            context = \" \".join([result[\"body\"] for result in results if result[\"body\"]]) #create one long context string.\n",
    "            return context\n",
    "        else:\n",
    "            return \"No context found.\"\n",
    "    except Exception as e:\n",
    "        return f\"Error searching DuckDuckGo: {e}\""
   ]
  },
  {
   "cell_type": "code",
   "execution_count": null,
   "metadata": {},
   "outputs": [],
   "source": [
    "def answer_question(question):\n",
    "    \"\"\"Answers a question using BERT, DuckDuckGo, and optionally Dictionary.com.\"\"\"\n",
    "    context = get_context_from_ddg(question)\n",
    "    if \"No context found.\" in context or \"Error searching DuckDuckGo\" in context:\n",
    "        return context\n",
    "\n",
    "    inputs = tokenizer.encode_plus(question, context, add_special_tokens=True, return_tensors=\"pt\")\n",
    "    input_ids = inputs[\"input_ids\"]\n",
    "    attention_mask = inputs[\"attention_mask\"]\n",
    "\n",
    "    with torch.no_grad():\n",
    "        outputs = model(input_ids, attention_mask=attention_mask)\n",
    "\n",
    "    answer_start = torch.argmax(outputs.start_logits)\n",
    "    answer_end = torch.argmax(outputs.end_logits) + 1\n",
    "\n",
    "    answer = tokenizer.convert_tokens_to_string(tokenizer.convert_ids_to_tokens(input_ids[0][answer_start:answer_end]))\n",
    "\n",
    "    answer_tokens = tokenizer.tokenize(answer)\n",
    "    if len(answer_tokens) == 1 and answer_tokens[0].isalpha():\n",
    "        definition = get_definition(answer)\n",
    "        if \"Definition not found\" not in definition and \"Error fetching definition\" not in definition and \"unexpected error\" not in definition:\n",
    "            answer = f\"{answer} : {definition}\"\n",
    "\n",
    "    return answer"
   ]
  },
  {
   "cell_type": "code",
   "execution_count": null,
   "metadata": {},
   "outputs": [],
   "source": [
    "# Example usage\n",
    "question = \"What is the capital of Japan?\"\n",
    "answer = answer_question(question)\n",
    "print(f\"Question: {question}\")\n",
    "print(f\"Answer: {answer}\")\n",
    "\n",
    "question2 = \"What is photosynthesis?\"\n",
    "answer2 = answer_question(question2)\n",
    "print(f\"Question: {question2}\")\n",
    "print(f\"Answer: {answer2}\")\n",
    "\n",
    "question3 = \"Define 'serendipity'.\"\n",
    "answer3 = answer_question(question3)\n",
    "print(f\"Question: {question3}\")\n",
    "print(f\"Answer: {answer3}\")"
   ]
  }
 ],
 "metadata": {
  "kernelspec": {
   "display_name": "Python 3",
   "language": "python",
   "name": "python3"
  },
  "language_info": {
   "codemirror_mode": {
    "name": "ipython",
    "version": 3
   },
   "file_extension": ".py",
   "mimetype": "text/x-python",
   "name": "python",
   "nbconvert_exporter": "python",
   "pygments_lexer": "ipython3",
   "version": "3.8.10"
  }
 },
 "nbformat": 4,
 "nbformat_minor": 5
}
